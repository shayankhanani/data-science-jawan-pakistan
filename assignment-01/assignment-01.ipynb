{
 "cells": [
  {
   "cell_type": "markdown",
   "id": "33887575",
   "metadata": {},
   "source": [
    "# Question 1"
   ]
  },
  {
   "cell_type": "markdown",
   "id": "150a6f4d",
   "metadata": {},
   "source": [
    "Write a Python program to print the following string in a specific format (see the output).\n",
    "\n",
    "Twinkle, twinkle, little star,<br/>\n",
    "&nbsp;&nbsp;&nbsp;&nbsp;How I wonder what you are!<br/>\n",
    "&nbsp;&nbsp;&nbsp;&nbsp;Up above the world so high,<br/>\n",
    "&nbsp;&nbsp;&nbsp;&nbsp;Like a diamond in the sky.<br/>\n",
    "Twinkle, twinkle, little star,<br/>\n",
    "&nbsp;&nbsp;&nbsp;&nbsp;How I wonder what you are\n"
   ]
  },
  {
   "cell_type": "code",
   "execution_count": 4,
   "id": "7050028f",
   "metadata": {},
   "outputs": [
    {
     "name": "stdout",
     "output_type": "stream",
     "text": [
      "Twinkle, twinkle, little star,\n",
      "\tHow I wonder what you are! \n",
      "\tUp above the world so high,\n",
      "\tLike a diamond in the sky.\n",
      " Twinkle, twinkle, little star, \n",
      "\tHow I wonder what you are\n"
     ]
    }
   ],
   "source": [
    "print('Twinkle, twinkle, little star,\\n\\tHow I wonder what you are! \\n\\tUp above the world so high,\\n\\tLike a diamond in the sky.\\n Twinkle, twinkle, little star, \\n\\tHow I wonder what you are')"
   ]
  },
  {
   "cell_type": "markdown",
   "id": "675dd605",
   "metadata": {},
   "source": [
    "# Question 2"
   ]
  },
  {
   "cell_type": "markdown",
   "id": "8504b16b",
   "metadata": {},
   "source": [
    "Write a Python program to get the Python version you are using"
   ]
  },
  {
   "cell_type": "code",
   "execution_count": 5,
   "id": "cbf8c0d4",
   "metadata": {},
   "outputs": [
    {
     "name": "stdout",
     "output_type": "stream",
     "text": [
      "I'm using Python Vesion 3.9.7 (default, Sep 16 2021, 16:59:28) [MSC v.1916 64 bit (AMD64)]\n"
     ]
    }
   ],
   "source": [
    "import sys\n",
    "print (\"I'm using Python Vesion \" + sys.version)"
   ]
  },
  {
   "cell_type": "markdown",
   "id": "17075de3",
   "metadata": {},
   "source": [
    "# Question 3"
   ]
  },
  {
   "cell_type": "code",
   "execution_count": 8,
   "id": "bbabc292",
   "metadata": {},
   "outputs": [
    {
     "name": "stdout",
     "output_type": "stream",
     "text": [
      "2022-01-01 08:10:14.889186\n"
     ]
    }
   ],
   "source": [
    "import datetime\n",
    "\n",
    "x = datetime.datetime.now()\n",
    "print(x)"
   ]
  },
  {
   "cell_type": "markdown",
   "id": "be6fe2d2",
   "metadata": {},
   "source": [
    "# Question 4"
   ]
  },
  {
   "cell_type": "markdown",
   "id": "bd3bb6e7",
   "metadata": {},
   "source": [
    "Write a Python program which accepts the radius of a circle from the user and compute the area."
   ]
  },
  {
   "cell_type": "code",
   "execution_count": 7,
   "id": "306e726a",
   "metadata": {},
   "outputs": [
    {
     "name": "stdout",
     "output_type": "stream",
     "text": [
      "Enter the radius of the circle5\n",
      "Area of the circle is: 78.53981633974483\n",
      "Area of the circle with Method 2 is: 78.53975\n"
     ]
    }
   ],
   "source": [
    "import math\n",
    "radius = int(input('Enter the radius of the circle'))\n",
    "area = math.pi * math.pow(radius,2)\n",
    "print('Area of the circle is: '+ str(area))\n",
    "\n",
    "#method2\n",
    "\n",
    "area = 3.14159 * (radius * radius)\n",
    "print('Area of the circle with Method 2 is: '+ str(area))"
   ]
  },
  {
   "cell_type": "markdown",
   "id": "b0f755eb",
   "metadata": {},
   "source": [
    "# Question 5"
   ]
  },
  {
   "cell_type": "markdown",
   "id": "c949dfa7",
   "metadata": {},
   "source": [
    "Write a Python program which accepts the user's first and last name and print them in reverse order with a space between them."
   ]
  },
  {
   "cell_type": "code",
   "execution_count": 9,
   "id": "8242e097",
   "metadata": {},
   "outputs": [
    {
     "name": "stdout",
     "output_type": "stream",
     "text": [
      "Enter your First Name: Shayan\n",
      "Enter your Last Name: Khanani\n",
      "inanahK nayahS\n"
     ]
    }
   ],
   "source": [
    "fname = input(\"Enter your First Name: \")\n",
    "lname = input(\"Enter your Last Name: \")\n",
    "\n",
    "name = fname + \" \" + lname\n",
    "reverse = ''\n",
    "for c in name:\n",
    "    reverse = c + reverse\n",
    "print(reverse)"
   ]
  },
  {
   "cell_type": "markdown",
   "id": "487e1969",
   "metadata": {},
   "source": [
    "# Question 6"
   ]
  },
  {
   "cell_type": "markdown",
   "id": "996b9188",
   "metadata": {},
   "source": [
    "Write a python program which takes two inputs from user and print them addition"
   ]
  },
  {
   "cell_type": "code",
   "execution_count": 10,
   "id": "8eceaf22",
   "metadata": {},
   "outputs": [
    {
     "name": "stdout",
     "output_type": "stream",
     "text": [
      "Enter 1st Num: 7\n",
      "Enter 2nd Num: 10\n",
      "The sum of your number is: 17\n"
     ]
    }
   ],
   "source": [
    "addition = int(input(\"Enter 1st Num: \")) + int(input(\"Enter 2nd Num: \"))\n",
    "print(\"The sum of your number is: \" + str(addition))"
   ]
  }
 ],
 "metadata": {
  "kernelspec": {
   "display_name": "Python 3 (ipykernel)",
   "language": "python",
   "name": "python3"
  },
  "language_info": {
   "codemirror_mode": {
    "name": "ipython",
    "version": 3
   },
   "file_extension": ".py",
   "mimetype": "text/x-python",
   "name": "python",
   "nbconvert_exporter": "python",
   "pygments_lexer": "ipython3",
   "version": "3.9.7"
  }
 },
 "nbformat": 4,
 "nbformat_minor": 5
}
